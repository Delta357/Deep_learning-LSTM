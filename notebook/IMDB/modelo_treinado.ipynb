{
 "cells": [
  {
   "cell_type": "code",
   "execution_count": 1,
   "id": "ba484f2e-9e8c-4982-83ac-3e6a40823aa5",
   "metadata": {},
   "outputs": [],
   "source": [
    "# Importando bibliotecas\n",
    "import numpy as np\n",
    "from tensorflow.keras.models import load_model\n",
    "from tensorflow.keras.preprocessing.text import Tokenizer\n",
    "from tensorflow.keras.preprocessing.sequence import pad_sequences"
   ]
  },
  {
   "cell_type": "code",
   "execution_count": 8,
   "id": "9c1be3c1-2193-459f-85ef-f6395dd9af70",
   "metadata": {},
   "outputs": [],
   "source": [
    "# Carregar o modelo treinado\n",
    "modelo_carregado = load_model('modelo_sentiment_IMDB.h5')"
   ]
  },
  {
   "cell_type": "code",
   "execution_count": 9,
   "id": "cb85a9a6-c554-43ef-bfcd-3e40a7e81a4e",
   "metadata": {},
   "outputs": [],
   "source": [
    "# Texto de exemplo para fazer previsões (substitua pelo seu próprio texto)\n",
    "texto_exemplo = [\"I did not like this movie\"]"
   ]
  },
  {
   "cell_type": "code",
   "execution_count": 10,
   "id": "ef3453fb-fc41-47bc-9c11-2a8edee6af7a",
   "metadata": {},
   "outputs": [],
   "source": [
    "# Texto de exemplo para fazer previsões (substitua pelo seu próprio texto)\n",
    "#texto_exemplo = input(str(\"Digite a frase:\"))"
   ]
  },
  {
   "cell_type": "code",
   "execution_count": 11,
   "id": "c3a7437c-0435-4544-b2ea-38d463f06d90",
   "metadata": {},
   "outputs": [],
   "source": [
    "# Pré-processar o texto de exemplo\n",
    "max_words = 10000  # Mesmo valor usado no treinamento\n",
    "max_review_length = 500  # Mesmo valor usado no treinamento\n",
    "\n",
    "tokenizer = Tokenizer(num_words=max_words)\n",
    "tokenizer.fit_on_texts(texto_exemplo)\n",
    "sequences = tokenizer.texts_to_sequences(texto_exemplo)\n",
    "padded_text = pad_sequences(sequences, maxlen=max_review_length)"
   ]
  },
  {
   "cell_type": "code",
   "execution_count": 12,
   "id": "073b03ac-c1d0-4f9d-b6b5-95eea9e4b62b",
   "metadata": {},
   "outputs": [
    {
     "name": "stdout",
     "output_type": "stream",
     "text": [
      "1/1 [==============================] - 0s 447ms/step\n"
     ]
    }
   ],
   "source": [
    "# Fazer a previsão\n",
    "previsao = modelo_carregado.predict(padded_text)"
   ]
  },
  {
   "cell_type": "code",
   "execution_count": 13,
   "id": "0a494c09-e247-4aed-9532-f46a31866a3e",
   "metadata": {},
   "outputs": [
    {
     "name": "stdout",
     "output_type": "stream",
     "text": [
      "Texto de Exemplo: I did not like this movie\n",
      "Probabilidade de Ser Positivo: 0.7545312\n",
      "Classificação: Positivo\n"
     ]
    }
   ],
   "source": [
    "# O resultado da previsão será uma probabilidade (0 a 1)\n",
    "# Você pode definir um limiar para classificar como positivo ou negativo\n",
    "limiar = 0.5  # Por exemplo, 0.5 para classificar como positivo se a probabilidade for maior ou igual a 0.5\n",
    "if previsao[0][0] >= limiar:\n",
    "    resultado = \"Positivo\"\n",
    "else:\n",
    "    resultado = \"Negativo\"\n",
    "\n",
    "print(\"Texto de Exemplo:\", texto_exemplo[0])\n",
    "print(\"Probabilidade de Ser Positivo:\", previsao[0][0])\n",
    "print(\"Classificação:\", resultado)"
   ]
  },
  {
   "cell_type": "code",
   "execution_count": null,
   "id": "3ccea0b2-a316-4873-beef-97629fa269ee",
   "metadata": {},
   "outputs": [],
   "source": []
  }
 ],
 "metadata": {
  "kernelspec": {
   "display_name": "Python 3 (ipykernel)",
   "language": "python",
   "name": "python3"
  },
  "language_info": {
   "codemirror_mode": {
    "name": "ipython",
    "version": 3
   },
   "file_extension": ".py",
   "mimetype": "text/x-python",
   "name": "python",
   "nbconvert_exporter": "python",
   "pygments_lexer": "ipython3",
   "version": "3.9.13"
  }
 },
 "nbformat": 4,
 "nbformat_minor": 5
}
